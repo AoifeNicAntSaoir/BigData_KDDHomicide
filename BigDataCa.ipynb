{
 "cells": [
  {
   "cell_type": "markdown",
   "metadata": {},
   "source": [
    "# Prediction on Homicide Perpetrators, 1980-2014\n",
    "### Aoife Sayers T00170881\n",
    "### Big Data CA2 2018"
   ]
  },
  {
   "cell_type": "markdown",
   "metadata": {},
   "source": [
    "# Selection"
   ]
  },
  {
   "cell_type": "markdown",
   "metadata": {},
   "source": [
    "Kaggle's homicide dataset, 1980-2014 was used for this: https://www.kaggle.com/murderaccountability/homicide-reports\n",
    "The homicide dataset was compiled by the Murder Acountability Project in the USA. This dataset includes the age, race, sex, ethnicity of victims and perpetrators, in addition to the relationship between the victim and perpetrator and weapon used."
   ]
  },
  {
   "cell_type": "markdown",
   "metadata": {},
   "source": [
    "Importing Modules"
   ]
  },
  {
   "cell_type": "code",
   "execution_count": 1,
   "metadata": {
    "collapsed": true
   },
   "outputs": [],
   "source": [
    "import numpy as np # linear algebra\n",
    "import pandas as pd # data processing, CSV file I/O (e.g. pd.read_csv)\n",
    "import matplotlib as mpl\n",
    "import matplotlib.pyplot as plt"
   ]
  },
  {
   "cell_type": "markdown",
   "metadata": {},
   "source": [
    " Reading in CSV Dataset"
   ]
  },
  {
   "cell_type": "code",
   "execution_count": 2,
   "metadata": {
    "collapsed": true
   },
   "outputs": [],
   "source": [
    "df = pd.read_csv('database.csv', low_memory=False)"
   ]
  },
  {
   "cell_type": "markdown",
   "metadata": {},
   "source": [
    "## Basic Exploratory Data Analysis"
   ]
  },
  {
   "cell_type": "code",
   "execution_count": 3,
   "metadata": {},
   "outputs": [
    {
     "data": {
      "text/plain": [
       "(638454, 24)"
      ]
     },
     "execution_count": 3,
     "metadata": {},
     "output_type": "execute_result"
    }
   ],
   "source": [
    "df.shape"
   ]
  },
  {
   "cell_type": "code",
   "execution_count": 4,
   "metadata": {},
   "outputs": [
    {
     "data": {
      "text/html": [
       "<div>\n",
       "<style>\n",
       "    .dataframe thead tr:only-child th {\n",
       "        text-align: right;\n",
       "    }\n",
       "\n",
       "    .dataframe thead th {\n",
       "        text-align: left;\n",
       "    }\n",
       "\n",
       "    .dataframe tbody tr th {\n",
       "        vertical-align: top;\n",
       "    }\n",
       "</style>\n",
       "<table border=\"1\" class=\"dataframe\">\n",
       "  <thead>\n",
       "    <tr style=\"text-align: right;\">\n",
       "      <th></th>\n",
       "      <th>Record ID</th>\n",
       "      <th>Agency Code</th>\n",
       "      <th>Agency Name</th>\n",
       "      <th>Agency Type</th>\n",
       "      <th>City</th>\n",
       "      <th>State</th>\n",
       "      <th>Year</th>\n",
       "      <th>Month</th>\n",
       "      <th>Incident</th>\n",
       "      <th>Crime Type</th>\n",
       "      <th>...</th>\n",
       "      <th>Victim Ethnicity</th>\n",
       "      <th>Perpetrator Sex</th>\n",
       "      <th>Perpetrator Age</th>\n",
       "      <th>Perpetrator Race</th>\n",
       "      <th>Perpetrator Ethnicity</th>\n",
       "      <th>Relationship</th>\n",
       "      <th>Weapon</th>\n",
       "      <th>Victim Count</th>\n",
       "      <th>Perpetrator Count</th>\n",
       "      <th>Record Source</th>\n",
       "    </tr>\n",
       "  </thead>\n",
       "  <tbody>\n",
       "    <tr>\n",
       "      <th>0</th>\n",
       "      <td>1</td>\n",
       "      <td>AK00101</td>\n",
       "      <td>Anchorage</td>\n",
       "      <td>Municipal Police</td>\n",
       "      <td>Anchorage</td>\n",
       "      <td>Alaska</td>\n",
       "      <td>1980</td>\n",
       "      <td>January</td>\n",
       "      <td>1</td>\n",
       "      <td>Murder or Manslaughter</td>\n",
       "      <td>...</td>\n",
       "      <td>Unknown</td>\n",
       "      <td>Male</td>\n",
       "      <td>15</td>\n",
       "      <td>Native American/Alaska Native</td>\n",
       "      <td>Unknown</td>\n",
       "      <td>Acquaintance</td>\n",
       "      <td>Blunt Object</td>\n",
       "      <td>0</td>\n",
       "      <td>0</td>\n",
       "      <td>FBI</td>\n",
       "    </tr>\n",
       "    <tr>\n",
       "      <th>1</th>\n",
       "      <td>2</td>\n",
       "      <td>AK00101</td>\n",
       "      <td>Anchorage</td>\n",
       "      <td>Municipal Police</td>\n",
       "      <td>Anchorage</td>\n",
       "      <td>Alaska</td>\n",
       "      <td>1980</td>\n",
       "      <td>March</td>\n",
       "      <td>1</td>\n",
       "      <td>Murder or Manslaughter</td>\n",
       "      <td>...</td>\n",
       "      <td>Unknown</td>\n",
       "      <td>Male</td>\n",
       "      <td>42</td>\n",
       "      <td>White</td>\n",
       "      <td>Unknown</td>\n",
       "      <td>Acquaintance</td>\n",
       "      <td>Strangulation</td>\n",
       "      <td>0</td>\n",
       "      <td>0</td>\n",
       "      <td>FBI</td>\n",
       "    </tr>\n",
       "    <tr>\n",
       "      <th>2</th>\n",
       "      <td>3</td>\n",
       "      <td>AK00101</td>\n",
       "      <td>Anchorage</td>\n",
       "      <td>Municipal Police</td>\n",
       "      <td>Anchorage</td>\n",
       "      <td>Alaska</td>\n",
       "      <td>1980</td>\n",
       "      <td>March</td>\n",
       "      <td>2</td>\n",
       "      <td>Murder or Manslaughter</td>\n",
       "      <td>...</td>\n",
       "      <td>Unknown</td>\n",
       "      <td>Unknown</td>\n",
       "      <td>0</td>\n",
       "      <td>Unknown</td>\n",
       "      <td>Unknown</td>\n",
       "      <td>Unknown</td>\n",
       "      <td>Unknown</td>\n",
       "      <td>0</td>\n",
       "      <td>0</td>\n",
       "      <td>FBI</td>\n",
       "    </tr>\n",
       "    <tr>\n",
       "      <th>3</th>\n",
       "      <td>4</td>\n",
       "      <td>AK00101</td>\n",
       "      <td>Anchorage</td>\n",
       "      <td>Municipal Police</td>\n",
       "      <td>Anchorage</td>\n",
       "      <td>Alaska</td>\n",
       "      <td>1980</td>\n",
       "      <td>April</td>\n",
       "      <td>1</td>\n",
       "      <td>Murder or Manslaughter</td>\n",
       "      <td>...</td>\n",
       "      <td>Unknown</td>\n",
       "      <td>Male</td>\n",
       "      <td>42</td>\n",
       "      <td>White</td>\n",
       "      <td>Unknown</td>\n",
       "      <td>Acquaintance</td>\n",
       "      <td>Strangulation</td>\n",
       "      <td>0</td>\n",
       "      <td>0</td>\n",
       "      <td>FBI</td>\n",
       "    </tr>\n",
       "    <tr>\n",
       "      <th>4</th>\n",
       "      <td>5</td>\n",
       "      <td>AK00101</td>\n",
       "      <td>Anchorage</td>\n",
       "      <td>Municipal Police</td>\n",
       "      <td>Anchorage</td>\n",
       "      <td>Alaska</td>\n",
       "      <td>1980</td>\n",
       "      <td>April</td>\n",
       "      <td>2</td>\n",
       "      <td>Murder or Manslaughter</td>\n",
       "      <td>...</td>\n",
       "      <td>Unknown</td>\n",
       "      <td>Unknown</td>\n",
       "      <td>0</td>\n",
       "      <td>Unknown</td>\n",
       "      <td>Unknown</td>\n",
       "      <td>Unknown</td>\n",
       "      <td>Unknown</td>\n",
       "      <td>0</td>\n",
       "      <td>1</td>\n",
       "      <td>FBI</td>\n",
       "    </tr>\n",
       "  </tbody>\n",
       "</table>\n",
       "<p>5 rows × 24 columns</p>\n",
       "</div>"
      ],
      "text/plain": [
       "   Record ID Agency Code Agency Name       Agency Type       City   State  \\\n",
       "0          1     AK00101   Anchorage  Municipal Police  Anchorage  Alaska   \n",
       "1          2     AK00101   Anchorage  Municipal Police  Anchorage  Alaska   \n",
       "2          3     AK00101   Anchorage  Municipal Police  Anchorage  Alaska   \n",
       "3          4     AK00101   Anchorage  Municipal Police  Anchorage  Alaska   \n",
       "4          5     AK00101   Anchorage  Municipal Police  Anchorage  Alaska   \n",
       "\n",
       "   Year    Month  Incident              Crime Type      ...       \\\n",
       "0  1980  January         1  Murder or Manslaughter      ...        \n",
       "1  1980    March         1  Murder or Manslaughter      ...        \n",
       "2  1980    March         2  Murder or Manslaughter      ...        \n",
       "3  1980    April         1  Murder or Manslaughter      ...        \n",
       "4  1980    April         2  Murder or Manslaughter      ...        \n",
       "\n",
       "  Victim Ethnicity Perpetrator Sex  Perpetrator Age  \\\n",
       "0          Unknown            Male               15   \n",
       "1          Unknown            Male               42   \n",
       "2          Unknown         Unknown                0   \n",
       "3          Unknown            Male               42   \n",
       "4          Unknown         Unknown                0   \n",
       "\n",
       "                Perpetrator Race Perpetrator Ethnicity  Relationship  \\\n",
       "0  Native American/Alaska Native               Unknown  Acquaintance   \n",
       "1                          White               Unknown  Acquaintance   \n",
       "2                        Unknown               Unknown       Unknown   \n",
       "3                          White               Unknown  Acquaintance   \n",
       "4                        Unknown               Unknown       Unknown   \n",
       "\n",
       "          Weapon Victim Count Perpetrator Count Record Source  \n",
       "0   Blunt Object            0                 0           FBI  \n",
       "1  Strangulation            0                 0           FBI  \n",
       "2        Unknown            0                 0           FBI  \n",
       "3  Strangulation            0                 0           FBI  \n",
       "4        Unknown            0                 1           FBI  \n",
       "\n",
       "[5 rows x 24 columns]"
      ]
     },
     "execution_count": 4,
     "metadata": {},
     "output_type": "execute_result"
    }
   ],
   "source": [
    "df.head(5)"
   ]
  },
  {
   "cell_type": "code",
   "execution_count": 5,
   "metadata": {},
   "outputs": [
    {
     "name": "stdout",
     "output_type": "stream",
     "text": [
      "<class 'pandas.core.frame.DataFrame'>\n",
      "RangeIndex: 638454 entries, 0 to 638453\n",
      "Data columns (total 24 columns):\n",
      "Record ID                638454 non-null int64\n",
      "Agency Code              638454 non-null object\n",
      "Agency Name              638454 non-null object\n",
      "Agency Type              638454 non-null object\n",
      "City                     638454 non-null object\n",
      "State                    638454 non-null object\n",
      "Year                     638454 non-null int64\n",
      "Month                    638454 non-null object\n",
      "Incident                 638454 non-null int64\n",
      "Crime Type               638454 non-null object\n",
      "Crime Solved             638454 non-null object\n",
      "Victim Sex               638454 non-null object\n",
      "Victim Age               638454 non-null int64\n",
      "Victim Race              638454 non-null object\n",
      "Victim Ethnicity         638454 non-null object\n",
      "Perpetrator Sex          638454 non-null object\n",
      "Perpetrator Age          638454 non-null object\n",
      "Perpetrator Race         638454 non-null object\n",
      "Perpetrator Ethnicity    638454 non-null object\n",
      "Relationship             638454 non-null object\n",
      "Weapon                   638454 non-null object\n",
      "Victim Count             638454 non-null int64\n",
      "Perpetrator Count        638454 non-null int64\n",
      "Record Source            638454 non-null object\n",
      "dtypes: int64(6), object(18)\n",
      "memory usage: 116.9+ MB\n"
     ]
    }
   ],
   "source": [
    "df.info()"
   ]
  },
  {
   "cell_type": "markdown",
   "metadata": {},
   "source": [
    "# Pre-processing & Transformation"
   ]
  },
  {
   "cell_type": "markdown",
   "metadata": {},
   "source": [
    "Casting string columns in the dataset to numeric"
   ]
  },
  {
   "cell_type": "code",
   "execution_count": 6,
   "metadata": {
    "collapsed": true
   },
   "outputs": [],
   "source": [
    "df['Perpetrator Age'] = pd.to_numeric(df['Perpetrator Age'], errors='coerce')\n",
    "df['Victim Count'] = pd.to_numeric(df['Victim Count'], errors='coerce')\n",
    "df['Year'] = pd.to_numeric(df['Year'], errors='coerce')"
   ]
  },
  {
   "cell_type": "markdown",
   "metadata": {},
   "source": [
    "Deleting unrequired columns"
   ]
  },
  {
   "cell_type": "code",
   "execution_count": 7,
   "metadata": {
    "collapsed": true
   },
   "outputs": [],
   "source": [
    "del df['Record ID']\n",
    "del df['Agency Code']\n",
    "del df['Agency Name']\n",
    "del df['Agency Type']"
   ]
  },
  {
   "cell_type": "markdown",
   "metadata": {},
   "source": [
    "Removing Age 0 "
   ]
  },
  {
   "cell_type": "code",
   "execution_count": 8,
   "metadata": {
    "collapsed": true
   },
   "outputs": [],
   "source": [
    "perpAges = df[df['Perpetrator Age'] != 0]"
   ]
  },
  {
   "cell_type": "markdown",
   "metadata": {},
   "source": [
    "# Data Mining - Descriptive & Visual"
   ]
  },
  {
   "cell_type": "markdown",
   "metadata": {},
   "source": [
    "### Solved vs Unsolved Crimes"
   ]
  },
  {
   "cell_type": "code",
   "execution_count": 9,
   "metadata": {},
   "outputs": [
    {
     "data": {
      "image/png": "[encoded data removed]",
      "text/plain": [
       "<matplotlib.figure.Figure at 0x15b96f65390>"
      ]
     },
     "metadata": {},
     "output_type": "display_data"
    }
   ],
   "source": [
    "solved = len(df[df[\"Crime Solved\"]==\"Yes\"])\n",
    "notsolved = len(df[df[\"Crime Solved\"]==\"No\"])\n",
    "\n",
    "labels = [\"Sovled\",\"Unsolved\"]\n",
    "sizes= [solved,notsolved]\n",
    "colors = ['green','red'] \n",
    "plt.suptitle('Percentage of Crime Sovled vs Crime Unsolved')\n",
    "plt.pie(sizes, labels=labels, colors=colors,\n",
    "        autopct='%1.1f%%', shadow=True, startangle=140)\n",
    "plt.axis('equal')\n",
    "plt.show()"
   ]
  },
  {
   "cell_type": "code",
   "execution_count": 10,
   "metadata": {},
   "outputs": [
    {
     "name": "stdout",
     "output_type": "stream",
     "text": [
      "Length of dataset: 638454\n",
      "No. Solved: 448172\n",
      "No. Unsolved: 190282\n"
     ]
    }
   ],
   "source": [
    "print('Length of dataset: ' + str(len(df)))\n",
    "print('No. Solved: ' + str(solved))\n",
    "print('No. Unsolved: ' + str(notsolved))"
   ]
  },
  {
   "cell_type": "code",
   "execution_count": 11,
   "metadata": {},
   "outputs": [
    {
     "data": {
      "image/png": "[encoded data removed]",
      "text/plain": [
       "<matplotlib.figure.Figure at 0x15b97072908>"
      ]
     },
     "metadata": {},
     "output_type": "display_data"
    }
   ],
   "source": [
    "df.Weapon.value_counts().plot(kind='barh')\n",
    "plt.suptitle('Weapon Types Visualisation')\n",
    "plt.ylabel('Weapon Types')\n",
    "plt.xlabel('Weapon Count')\n",
    "plt.show()"
   ]
  },
  {
   "cell_type": "markdown",
   "metadata": {},
   "source": [
    "### Relationships"
   ]
  },
  {
   "cell_type": "code",
   "execution_count": 12,
   "metadata": {},
   "outputs": [
    {
     "data": {
      "image/png": "[encoded data removed]",
      "text/plain": [
       "<matplotlib.figure.Figure at 0x15b971e29b0>"
      ]
     },
     "metadata": {},
     "output_type": "display_data"
    }
   ],
   "source": [
    "plt.figure(figsize=(10,10))\n",
    "df.Relationship.value_counts().plot(kind='barh')\n",
    "plt.xlabel('Relationships')\n",
    "plt.show()"
   ]
  },
  {
   "cell_type": "code",
   "execution_count": 13,
   "metadata": {},
   "outputs": [
    {
     "data": {
      "text/plain": [
       "array(['Acquaintance', 'Unknown', 'Wife', 'Stranger', 'Girlfriend',\n",
       "       'Ex-Husband', 'Brother', 'Stepdaughter', 'Husband', 'Sister',\n",
       "       'Friend', 'Family', 'Neighbor', 'Father', 'In-Law', 'Son',\n",
       "       'Ex-Wife', 'Boyfriend', 'Mother', 'Common-Law Husband',\n",
       "       'Common-Law Wife', 'Stepfather', 'Stepson', 'Stepmother',\n",
       "       'Daughter', 'Boyfriend/Girlfriend', 'Employer', 'Employee'], dtype=object)"
      ]
     },
     "execution_count": 13,
     "metadata": {},
     "output_type": "execute_result"
    }
   ],
   "source": [
    "#The types of relationships\n",
    "df['Relationship'].unique()"
   ]
  },
  {
   "cell_type": "markdown",
   "metadata": {},
   "source": [
    "### Gun Violence"
   ]
  },
  {
   "cell_type": "markdown",
   "metadata": {},
   "source": [
    "Interpretation of gun violence is where the following weapons have been used:\n",
    "- Hangun\n",
    "- Rifle\n",
    "- Shotgun\n",
    "- Firearm\n",
    "- Gun"
   ]
  },
  {
   "cell_type": "code",
   "execution_count": 33,
   "metadata": {},
   "outputs": [
    {
     "name": "stdout",
     "output_type": "stream",
     "text": [
      "Number of Gun related homicides: 284390\n",
      "Most Common State for Gun Homicides: \n",
      "0    California\n",
      "dtype: object\n",
      "\n",
      "\n",
      "Gun Homicide in California: 40237\n"
     ]
    }
   ],
   "source": [
    "#Creating a dataframe with all the weapons as handguns\n",
    "gunHomicides = df[(df['Weapon']=='Handgun') | (df['Weapon']=='Rifle') | (df['Weapon']=='Shotgun') | (df['Weapon']=='Firearm') | (df['Weapon']=='Gun')]\n",
    "\n",
    "print('Number of Gun related homicides: ' + str(len(gunHomicides)))\n",
    "print(\"Most Common State for Gun Homicides: \\n\" + str(gunHomicides['State'].mode()))\n",
    "\n",
    "caliHomicides = len(gunHomicides[gunHomicides['State']=='California'])\n",
    "print(\"\\n\\nGun Homicide in California: \" + str(caliHomicides))\n"
   ]
  },
  {
   "cell_type": "markdown",
   "metadata": {},
   "source": [
    "### Perpetrator Profile"
   ]
  },
  {
   "cell_type": "markdown",
   "metadata": {},
   "source": [
    "Perpetrator Sex"
   ]
  },
  {
   "cell_type": "code",
   "execution_count": 15,
   "metadata": {},
   "outputs": [
    {
     "data": {
      "image/png": "[encoded data removed]",
      "text/plain": [
       "<matplotlib.figure.Figure at 0x15b972e1320>"
      ]
     },
     "metadata": {},
     "output_type": "display_data"
    }
   ],
   "source": [
    "labels = [\"Male\",\"Female\",\"Unknown\"]\n",
    "sizes= [len(df[(df['Perpetrator Sex']=='Male')]),len(df[(df['Perpetrator Sex']=='Female')]),len(df[(df['Perpetrator Sex']=='Unknown')])]\n",
    "colors = ['green','red','yellow'] \n",
    "plt.pie(sizes, labels=labels, colors=colors,autopct='%1.1f%%', shadow=True, startangle=140)\n",
    "plt.suptitle('Perpetrator Sex')\n",
    "plt.axis('equal')\n",
    "plt.show()"
   ]
  },
  {
   "cell_type": "markdown",
   "metadata": {},
   "source": [
    "Perpetrator Race"
   ]
  },
  {
   "cell_type": "code",
   "execution_count": 16,
   "metadata": {},
   "outputs": [
    {
     "name": "stdout",
     "output_type": "stream",
     "text": [
      "0    Race with most homicides: White\n",
      "dtype: object\n"
     ]
    }
   ],
   "source": [
    "print('Race with most homicides: ' + df['Perpetrator Race'].mode())"
   ]
  },
  {
   "cell_type": "code",
   "execution_count": 17,
   "metadata": {},
   "outputs": [
    {
     "data": {
      "image/png": "[encoded data removed]",
      "text/plain": [
       "<matplotlib.figure.Figure at 0x15b972ffcf8>"
      ]
     },
     "metadata": {},
     "output_type": "display_data"
    }
   ],
   "source": [
    "plt.hist(df['Perpetrator Race'])\n",
    "plt.suptitle('Perpetrator Race')\n",
    "plt.xticks(rotation=90)\n",
    "plt.ylabel('Number of homicides per race')\n",
    "plt.xlabel('Perpetrator Race Types')\n",
    "plt.suptitle('Perpetrator Race')\n",
    "plt.show()"
   ]
  },
  {
   "cell_type": "markdown",
   "metadata": {},
   "source": [
    "Perpetrator Age Profile"
   ]
  },
  {
   "cell_type": "code",
   "execution_count": 43,
   "metadata": {},
   "outputs": [
    {
     "name": "stdout",
     "output_type": "stream",
     "text": [
      "----------Perpetrator Age Analysis----------------\n",
      "Mean Age: 29.090201040285013\n",
      "Oldest Age of  Perpetrator: 99\n",
      "Youngest Age of Perpetrator: 0\n",
      "Number of perpetrators under 18: 57239\n",
      "Number of perpetrators over 65: 8643\n"
     ]
    }
   ],
   "source": [
    "df['Perpetrator Age'] = pd.to_numeric(df['Perpetrator Age'], errors='coerce')\n",
    "df['Victim Count'] = pd.to_numeric(df['Victim Count'], errors='coerce')\n",
    "df['Year'] = pd.to_numeric(df['Year'], errors='coerce')\n",
    "\n",
    "print('----------Perpetrator Age Analysis----------------')\n",
    "print('Mean Age: ' + str(df['Perpetrator Age'].mean()))\n",
    "print('Oldest Age of  Perpetrator: ' +  str(df['Perpetrator Age'].max()))\n",
    "print('Youngest Age of Perpetrator: ' + str(df['Perpetrator Age'].min()))\n",
    "#print('Standard Deviation: ' + str(df['Perpetrator Age'].std()))\n",
    "\n",
    "minor = df[df['Perpetrator Age']<18]\n",
    "print('Number of perpetrators under 18: ' + str(len(minor)))\n",
    "senior = df[df['Perpetrator Age']>65]\n",
    "print('Number of perpetrators over 65: ' + str(len(senior)))"
   ]
  },
  {
   "cell_type": "markdown",
   "metadata": {},
   "source": [
    "### Homicides per Year"
   ]
  },
  {
   "cell_type": "code",
   "execution_count": 19,
   "metadata": {},
   "outputs": [
    {
     "name": "stdout",
     "output_type": "stream",
     "text": [
      "Number of Homicides in 1980: 23092\n",
      "Number of Homicides in 2014: 14331\n",
      "Percentage Decrease between 1980 and 2014: 37.9395461631734\n"
     ]
    }
   ],
   "source": [
    "startYear = len(df[df['Year']==1980])\n",
    "currentYear = len(df[df['Year']==2014])\n",
    "percentageDecrease=((startYear-currentYear)/startYear)*(100/1)\n",
    "\n",
    "print('Number of Homicides in 1980: ' + str(startYear) + \n",
    "      '\\nNumber of Homicides in 2014: ' + str(currentYear) + \n",
    "      '\\nPercentage Decrease between 1980 and 2014: ' + str(percentageDecrease))"
   ]
  },
  {
   "cell_type": "code",
   "execution_count": 20,
   "metadata": {},
   "outputs": [
    {
     "name": "stdout",
     "output_type": "stream",
     "text": [
      "The least number of homicides was 14331\n",
      "The highest number of homicides was 24335\n"
     ]
    },
    {
     "data": {
      "image/png": "[encoded data removed]",
      "text/plain": [
       "<matplotlib.figure.Figure at 0x15b9730cf60>"
      ]
     },
     "metadata": {},
     "output_type": "display_data"
    }
   ],
   "source": [
    "print('The least number of homicides was ' + str(df['Year'].value_counts().min()) )\n",
    "print('The highest number of homicides was ' + str(df['Year'].value_counts().max()) )\n",
    "plt.figure(figsize=(15,10))\n",
    "df.Year.value_counts().plot(kind='barh')\n",
    "plt.gca().invert_yaxis()\n",
    "plt.ylabel('Year')\n",
    "plt.xlabel('Homicide Count')\n",
    "plt.suptitle('Homicide Count for each year')\n",
    "plt.show()"
   ]
  },
  {
   "cell_type": "markdown",
   "metadata": {},
   "source": [
    "### Relationships between Perpetrator and Victims"
   ]
  },
  {
   "cell_type": "code",
   "execution_count": 39,
   "metadata": {},
   "outputs": [
    {
     "name": "stdout",
     "output_type": "stream",
     "text": [
      "Stranger Murder: 178070\n",
      "Stranger Murder out of whole dataset: 40.30538567050398 %\n"
     ]
    },
    {
     "data": {
      "image/png": "[encoded data removed]",
      "text/plain": [
       "<matplotlib.figure.Figure at 0x15bb27197b8>"
      ]
     },
     "metadata": {},
     "output_type": "display_data"
    }
   ],
   "source": [
    "strangerMurder = df[ (df['Relationship']=='Stranger') | (df['Relationship']=='Unknown')]\n",
    "percentStranger = (len(strangerMurder)/ len(df))*100\n",
    "print('Stranger Murder: ' + str(len(strangerMurder)))\n",
    "print('Stranger Murder out of whole dataset: ' + str(percentStranger) + ' %')\n",
    "plt.hist(strangerMurder['Weapon'])\n",
    "plt.xticks(rotation=90)\n",
    "plt.suptitle('Relationship Unknown/Stranger to Victim Top Weapons')\n",
    "plt.ylabel('Number of Weapons')\n",
    "plt.xlabel('Weapon Types used by Unknown/Stranger')\n",
    "plt.show()"
   ]
  },
  {
   "cell_type": "markdown",
   "metadata": {},
   "source": [
    "Immediate Family includes\n",
    "- Wife\n",
    "- Husband\n",
    "- Son\n",
    "- Daughter\n",
    "- Brother\n",
    "- Sister\n",
    "- Father\n",
    "- Mother\n",
    "- Family"
   ]
  },
  {
   "cell_type": "code",
   "execution_count": 22,
   "metadata": {},
   "outputs": [
    {
     "data": {
      "image/png": "[encoded data removed]",
      "text/plain": [
       "<matplotlib.figure.Figure at 0x15b97555550>"
      ]
     },
     "metadata": {},
     "output_type": "display_data"
    }
   ],
   "source": [
    "immediateFamilicide = df[ (df['Relationship']=='Wife') | (df['Relationship']=='Husband') | (df['Relationship']=='Son') | (df['Relationship']=='Daughter') | (df['Relationship']=='Family') | (df['Relationship']=='Brother') | (df['Relationship']=='Sister') | (df['Relationship']=='Father') | (df['Relationship']=='Mother')] \n",
    "percentFamilicide = len(immediateFamilicide)/len(df)\n",
    "plt.suptitle('Familicide Relationships')\n",
    "plt.xlabel('Familicide Relationship Types')\n",
    "plt.xticks(rotation=90)\n",
    "plt.ylabel('Familicide Homicide Counts')\n",
    "plt.hist(immediateFamilicide['Relationship'])\n",
    "plt.show()\n"
   ]
  },
  {
   "cell_type": "code",
   "execution_count": 23,
   "metadata": {},
   "outputs": [
    {
     "data": {
      "text/plain": [
       "0    Wife\n",
       "dtype: object"
      ]
     },
     "execution_count": 23,
     "metadata": {},
     "output_type": "execute_result"
    }
   ],
   "source": [
    "immediateFamilicide['Relationship'].mode()"
   ]
  },
  {
   "cell_type": "markdown",
   "metadata": {},
   "source": [
    "### Possible Serial Killers"
   ]
  },
  {
   "cell_type": "markdown",
   "metadata": {},
   "source": [
    "Interpretation of a serial killer\n",
    "- Relationship is Unknown/Stranger\n",
    "- Victim Count > 0"
   ]
  },
  {
   "cell_type": "code",
   "execution_count": 24,
   "metadata": {},
   "outputs": [
    {
     "data": {
      "text/html": [
       "<div>\n",
       "<style>\n",
       "    .dataframe thead tr:only-child th {\n",
       "        text-align: right;\n",
       "    }\n",
       "\n",
       "    .dataframe thead th {\n",
       "        text-align: left;\n",
       "    }\n",
       "\n",
       "    .dataframe tbody tr th {\n",
       "        vertical-align: top;\n",
       "    }\n",
       "</style>\n",
       "<table border=\"1\" class=\"dataframe\">\n",
       "  <thead>\n",
       "    <tr style=\"text-align: right;\">\n",
       "      <th></th>\n",
       "      <th>City</th>\n",
       "      <th>State</th>\n",
       "      <th>Year</th>\n",
       "      <th>Month</th>\n",
       "      <th>Incident</th>\n",
       "      <th>Crime Type</th>\n",
       "      <th>Crime Solved</th>\n",
       "      <th>Victim Sex</th>\n",
       "      <th>Victim Age</th>\n",
       "      <th>Victim Race</th>\n",
       "      <th>Victim Ethnicity</th>\n",
       "      <th>Perpetrator Sex</th>\n",
       "      <th>Perpetrator Age</th>\n",
       "      <th>Perpetrator Race</th>\n",
       "      <th>Perpetrator Ethnicity</th>\n",
       "      <th>Relationship</th>\n",
       "      <th>Weapon</th>\n",
       "      <th>Victim Count</th>\n",
       "      <th>Perpetrator Count</th>\n",
       "      <th>Record Source</th>\n",
       "    </tr>\n",
       "  </thead>\n",
       "  <tbody>\n",
       "    <tr>\n",
       "      <th>11</th>\n",
       "      <td>Anchorage</td>\n",
       "      <td>Alaska</td>\n",
       "      <td>1980</td>\n",
       "      <td>July</td>\n",
       "      <td>2</td>\n",
       "      <td>Murder or Manslaughter</td>\n",
       "      <td>Yes</td>\n",
       "      <td>Male</td>\n",
       "      <td>20</td>\n",
       "      <td>White</td>\n",
       "      <td>Unknown</td>\n",
       "      <td>Male</td>\n",
       "      <td>49.0</td>\n",
       "      <td>White</td>\n",
       "      <td>Unknown</td>\n",
       "      <td>Stranger</td>\n",
       "      <td>Shotgun</td>\n",
       "      <td>0</td>\n",
       "      <td>0</td>\n",
       "      <td>FBI</td>\n",
       "    </tr>\n",
       "    <tr>\n",
       "      <th>50</th>\n",
       "      <td>Jefferson</td>\n",
       "      <td>Alabama</td>\n",
       "      <td>1980</td>\n",
       "      <td>May</td>\n",
       "      <td>1</td>\n",
       "      <td>Murder or Manslaughter</td>\n",
       "      <td>Yes</td>\n",
       "      <td>Male</td>\n",
       "      <td>17</td>\n",
       "      <td>White</td>\n",
       "      <td>Unknown</td>\n",
       "      <td>Male</td>\n",
       "      <td>40.0</td>\n",
       "      <td>White</td>\n",
       "      <td>Unknown</td>\n",
       "      <td>Stranger</td>\n",
       "      <td>Handgun</td>\n",
       "      <td>0</td>\n",
       "      <td>0</td>\n",
       "      <td>FBI</td>\n",
       "    </tr>\n",
       "    <tr>\n",
       "      <th>57</th>\n",
       "      <td>Jefferson</td>\n",
       "      <td>Alabama</td>\n",
       "      <td>1980</td>\n",
       "      <td>August</td>\n",
       "      <td>3</td>\n",
       "      <td>Murder or Manslaughter</td>\n",
       "      <td>Yes</td>\n",
       "      <td>Male</td>\n",
       "      <td>68</td>\n",
       "      <td>Black</td>\n",
       "      <td>Unknown</td>\n",
       "      <td>Male</td>\n",
       "      <td>22.0</td>\n",
       "      <td>Black</td>\n",
       "      <td>Unknown</td>\n",
       "      <td>Stranger</td>\n",
       "      <td>Handgun</td>\n",
       "      <td>0</td>\n",
       "      <td>2</td>\n",
       "      <td>FBI</td>\n",
       "    </tr>\n",
       "    <tr>\n",
       "      <th>61</th>\n",
       "      <td>Jefferson</td>\n",
       "      <td>Alabama</td>\n",
       "      <td>1980</td>\n",
       "      <td>December</td>\n",
       "      <td>1</td>\n",
       "      <td>Murder or Manslaughter</td>\n",
       "      <td>Yes</td>\n",
       "      <td>Male</td>\n",
       "      <td>18</td>\n",
       "      <td>Black</td>\n",
       "      <td>Unknown</td>\n",
       "      <td>Male</td>\n",
       "      <td>38.0</td>\n",
       "      <td>Black</td>\n",
       "      <td>Unknown</td>\n",
       "      <td>Stranger</td>\n",
       "      <td>Handgun</td>\n",
       "      <td>0</td>\n",
       "      <td>0</td>\n",
       "      <td>FBI</td>\n",
       "    </tr>\n",
       "    <tr>\n",
       "      <th>79</th>\n",
       "      <td>Jefferson</td>\n",
       "      <td>Alabama</td>\n",
       "      <td>1980</td>\n",
       "      <td>January</td>\n",
       "      <td>7</td>\n",
       "      <td>Murder or Manslaughter</td>\n",
       "      <td>Yes</td>\n",
       "      <td>Male</td>\n",
       "      <td>35</td>\n",
       "      <td>Black</td>\n",
       "      <td>Unknown</td>\n",
       "      <td>Male</td>\n",
       "      <td>30.0</td>\n",
       "      <td>White</td>\n",
       "      <td>Unknown</td>\n",
       "      <td>Stranger</td>\n",
       "      <td>Handgun</td>\n",
       "      <td>0</td>\n",
       "      <td>0</td>\n",
       "      <td>FBI</td>\n",
       "    </tr>\n",
       "  </tbody>\n",
       "</table>\n",
       "</div>"
      ],
      "text/plain": [
       "         City    State  Year     Month  Incident              Crime Type  \\\n",
       "11  Anchorage   Alaska  1980      July         2  Murder or Manslaughter   \n",
       "50  Jefferson  Alabama  1980       May         1  Murder or Manslaughter   \n",
       "57  Jefferson  Alabama  1980    August         3  Murder or Manslaughter   \n",
       "61  Jefferson  Alabama  1980  December         1  Murder or Manslaughter   \n",
       "79  Jefferson  Alabama  1980   January         7  Murder or Manslaughter   \n",
       "\n",
       "   Crime Solved Victim Sex  Victim Age Victim Race Victim Ethnicity  \\\n",
       "11          Yes       Male          20       White          Unknown   \n",
       "50          Yes       Male          17       White          Unknown   \n",
       "57          Yes       Male          68       Black          Unknown   \n",
       "61          Yes       Male          18       Black          Unknown   \n",
       "79          Yes       Male          35       Black          Unknown   \n",
       "\n",
       "   Perpetrator Sex  Perpetrator Age Perpetrator Race Perpetrator Ethnicity  \\\n",
       "11            Male             49.0            White               Unknown   \n",
       "50            Male             40.0            White               Unknown   \n",
       "57            Male             22.0            Black               Unknown   \n",
       "61            Male             38.0            Black               Unknown   \n",
       "79            Male             30.0            White               Unknown   \n",
       "\n",
       "   Relationship   Weapon  Victim Count  Perpetrator Count Record Source  \n",
       "11     Stranger  Shotgun             0                  0           FBI  \n",
       "50     Stranger  Handgun             0                  0           FBI  \n",
       "57     Stranger  Handgun             0                  2           FBI  \n",
       "61     Stranger  Handgun             0                  0           FBI  \n",
       "79     Stranger  Handgun             0                  0           FBI  "
      ]
     },
     "execution_count": 24,
     "metadata": {},
     "output_type": "execute_result"
    }
   ],
   "source": [
    "possibleSerialKillers = df[(df['Relationship']=='Stranger') | (df['Relationship']=='Unknown') & (df['Victim Count']>0)]\n",
    "possibleSerialKillers.head()\n"
   ]
  },
  {
   "cell_type": "code",
   "execution_count": 25,
   "metadata": {},
   "outputs": [
    {
     "name": "stdout",
     "output_type": "stream",
     "text": [
      "State with most possible Serial killers0    California\n",
      "dtype: object\n"
     ]
    }
   ],
   "source": [
    "print('State with most possible Serial killers' + str(possibleSerialKillers['State'].mode()))\n"
   ]
  },
  {
   "cell_type": "code",
   "execution_count": 26,
   "metadata": {},
   "outputs": [
    {
     "name": "stdout",
     "output_type": "stream",
     "text": [
      "Number of possible Serial killers: 118853\n"
     ]
    }
   ],
   "source": [
    "print('Number of possible Serial killers: ' + str(len(possibleSerialKillers)))"
   ]
  },
  {
   "cell_type": "markdown",
   "metadata": {},
   "source": [
    "# Data Mining Predictive Analysis"
   ]
  },
  {
   "cell_type": "markdown",
   "metadata": {},
   "source": [
    "### Predicting Perpetrator Sex"
   ]
  },
  {
   "cell_type": "markdown",
   "metadata": {},
   "source": [
    "Logistic Regression"
   ]
  },
  {
   "cell_type": "code",
   "execution_count": 27,
   "metadata": {},
   "outputs": [
    {
     "name": "stdout",
     "output_type": "stream",
     "text": [
      "['Male' 'Male' 'Male' ..., 'Male' 'Male' 'Male']\n",
      "['Male' 'Male' 'Male' 'Male' 'Male']\n",
      "Accuracy Score: 0.89139209754\n"
     ]
    }
   ],
   "source": [
    "#importing libraries\n",
    "import numpy as np\n",
    "import matplotlib.pyplot as plt\n",
    "import pandas as pd\n",
    "from sklearn.linear_model import LogisticRegression\n",
    "from sklearn.model_selection import train_test_split\n",
    "\n",
    "#loading dataset and separating predictors from predicted variable\n",
    "df = pd.read_csv('database.csv', low_memory=False)\n",
    "\n",
    "#Preprocessing dataset to only solved crimes and where the perpetrator's race and victim sex is known\n",
    "df = df[(df['Crime Solved']=='Yes') & (df['Perpetrator Race']!='Unknown') & (df['Victim Sex']!='Unknown')]\n",
    "X = df[['Year', 'Victim Ethnicity', 'Victim Sex', 'Victim Age', 'Victim Race']]\n",
    "\n",
    "#Getting Dummies\n",
    "X = pd.get_dummies(X)\n",
    "#Target variable for prediction\n",
    "Y = df['Perpetrator Sex']\n",
    "\n",
    "#Split dataframe into a training and test set\n",
    "X_train, X_test, y_train, y_test = train_test_split(X,Y, test_size=0.3)\n",
    "#Creating Logistic Regression model\n",
    "lr = LogisticRegression()\n",
    "lr.fit(X_train, y_train)\n",
    "#Predictions\n",
    "predictions = lr.predict(X_train)\n",
    "print(predictions)\n",
    "print(predictions[0:5])\n",
    "print('Accuracy Score:', lr.score(X_test, y_test))\n",
    "\n",
    "\n"
   ]
  },
  {
   "cell_type": "markdown",
   "metadata": {},
   "source": [
    "SVM (Scalable Vector Machine)"
   ]
  },
  {
   "cell_type": "code",
   "execution_count": 28,
   "metadata": {
    "collapsed": true
   },
   "outputs": [],
   "source": [
    "from sklearn import svm\n",
    "#importing libraries\n",
    "import numpy as np\n",
    "import matplotlib.pyplot as plt\n",
    "import pandas as pd\n",
    "from sklearn.linear_model import LogisticRegression\n",
    "from sklearn.model_selection import train_test_split\n",
    "#loading dataset and separating predictors from predicted variable\n",
    "df = pd.read_csv('database.csv', low_memory=False)\n",
    "\n",
    "#Preprocessing dataset to only solved crimes and where the perpetrator's race and victim sex is known\n",
    "df = df[(df['Crime Solved']=='Yes') & (df['Perpetrator Race']!='Unknown') & (df['Victim Sex']!='Unknown')]\n",
    "X = df[['Year', 'Victim Ethnicity', 'Victim Sex', 'Victim Age', 'Victim Race']]\n",
    "\n",
    "#Getting Dummies\n",
    "X = pd.get_dummies(X)\n",
    "#Target variable for prediction\n",
    "Y = df['Perpetrator Sex']\n",
    "\n",
    "#Split dataframe into a training and test set\n",
    "X_train, X_test, y_train, y_test = train_test_split(X,Y, test_size=0.3)\n",
    "\n",
    "#clf = svm.SVC()\n",
    "#clf.fit(X_train,y_train)\n",
    "#svmpred = clf.predict(X_test)\n",
    "#print(svmpred)"
   ]
  },
  {
   "cell_type": "markdown",
   "metadata": {},
   "source": [
    "### Predicting Perpetrator's Race"
   ]
  },
  {
   "cell_type": "markdown",
   "metadata": {},
   "source": [
    "Logistic Regression"
   ]
  },
  {
   "cell_type": "code",
   "execution_count": 29,
   "metadata": {},
   "outputs": [
    {
     "name": "stdout",
     "output_type": "stream",
     "text": [
      "['White' 'White' 'White' ..., 'Black' 'White' 'White']\n",
      "['White' 'White' 'White' 'Black' 'Black']\n",
      "Score: 0.866116899676\n"
     ]
    }
   ],
   "source": [
    "#importing libraries\n",
    "import numpy as np\n",
    "import matplotlib.pyplot as plt\n",
    "import pandas as pd\n",
    "from sklearn.linear_model import LogisticRegression\n",
    "from sklearn.model_selection import train_test_split\n",
    "from sklearn import preprocessing\n",
    "#loading dataset and separating predictors from predicted variable\n",
    "df = pd.read_csv('database.csv', low_memory=False)\n",
    "\n",
    "df = df[(df['Crime Solved']=='Yes') & (df['Perpetrator Race']!='Unknown') & (df['Victim Sex']!='Unknown')]\n",
    "\n",
    "X = df[[ 'Victim Ethnicity','Victim Race']]\n",
    "\n",
    "\n",
    "X = pd.get_dummies(X)\n",
    "\n",
    "Y = df['Perpetrator Race']\n",
    "\n",
    "le = preprocessing.LabelEncoder()\n",
    "\n",
    "le.fit(Y)\n",
    "le.classes_\n",
    "\n",
    "\n",
    "X_train, X_test, y_train, y_test = train_test_split(X,Y, test_size=0.3)\n",
    "\n",
    "\n",
    "lr = LogisticRegression()\n",
    "lr.fit(X_train, y_train)\n",
    "predictions = lr.predict(X_train)\n",
    "print(predictions)\n",
    "print(predictions[0:5])\n",
    "print('Score:', lr.score(X_test, y_test))\n",
    "\n"
   ]
  },
  {
   "cell_type": "markdown",
   "metadata": {},
   "source": [
    "Multi-Layer Perceptron Neural Network"
   ]
  },
  {
   "cell_type": "code",
   "execution_count": 30,
   "metadata": {},
   "outputs": [
    {
     "name": "stdout",
     "output_type": "stream",
     "text": [
      "['Black' 'Black' 'Black' ..., 'White' 'White' 'Black']\n",
      "[[ 1189   169    14   462]\n",
      " [  360 53750   111 10009]\n",
      " [   10    58   586   382]\n",
      " [  511  5154   329 59447]]\n",
      "                               precision    recall  f1-score   support\n",
      "\n",
      "       Asian/Pacific Islander       0.57      0.65      0.61      1834\n",
      "                        Black       0.91      0.84      0.87     64230\n",
      "Native American/Alaska Native       0.56      0.57      0.56      1036\n",
      "                        White       0.85      0.91      0.88     65441\n",
      "\n",
      "                  avg / total       0.87      0.87      0.87    132541\n",
      "\n"
     ]
    }
   ],
   "source": [
    "#importing libraries\n",
    "import numpy as np\n",
    "import matplotlib.pyplot as plt\n",
    "import pandas as pd\n",
    "from sklearn.linear_model import LogisticRegression\n",
    "from sklearn.model_selection import train_test_split\n",
    "from sklearn import preprocessing\n",
    "from sklearn.preprocessing import StandardScaler\n",
    "from sklearn.neural_network import MLPClassifier\n",
    "from sklearn.metrics import classification_report,confusion_matrix\n",
    "\n",
    "#loading dataset and separating predictors from predicted variable\n",
    "df = pd.read_csv('database.csv', low_memory=False)\n",
    "\n",
    "df = df[(df['Crime Solved']=='Yes') & (df['Perpetrator Race']!='Unknown') & (df['Victim Sex']!='Unknown')]\n",
    "\n",
    "X = df[[ 'Victim Ethnicity','Victim Race']]\n",
    "\n",
    "\n",
    "X = pd.get_dummies(X)\n",
    "\n",
    "Y = df['Perpetrator Race']\n",
    "\n",
    "le = preprocessing.LabelEncoder()\n",
    "\n",
    "le.fit(Y)\n",
    "le.classes_\n",
    "\n",
    "\n",
    "X_train, X_test, y_train, y_test = train_test_split(X,Y, test_size=0.3)\n",
    "\n",
    "scaler = StandardScaler()\n",
    "# Fit only to the training data\n",
    "scaler.fit(X_train)\n",
    "StandardScaler(copy=True, with_mean=True, with_std=True)\n",
    "# Now apply the transformations to the data:\n",
    "X_train = scaler.transform(X_train)\n",
    "X_test = scaler.transform(X_test)\n",
    "\n",
    "\n",
    "mlp = MLPClassifier(hidden_layer_sizes=(13,13,13),max_iter=500)\n",
    "mlp.fit(X_train,y_train)\n",
    "predictions = mlp.predict(X_test)\n",
    "print(predictions)\n",
    "\n",
    "print(confusion_matrix(y_test,predictions))\n",
    "print(classification_report(y_test,predictions))"
   ]
  }
 ],
 "metadata": {
  "kernelspec": {
   "display_name": "Python 3",
   "language": "python",
   "name": "python3"
  },
  "language_info": {
   "codemirror_mode": {
    "name": "ipython",
    "version": 3
   },
   "file_extension": ".py",
   "mimetype": "text/x-python",
   "name": "python",
   "nbconvert_exporter": "python",
   "pygments_lexer": "ipython3",
   "version": "3.6.5"
  }
 },
 "nbformat": 4,
 "nbformat_minor": 2
}
